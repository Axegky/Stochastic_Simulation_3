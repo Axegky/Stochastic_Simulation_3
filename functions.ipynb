{
 "cells": [
  {
   "cell_type": "code",
   "execution_count": 23,
   "metadata": {},
   "outputs": [],
   "source": [
    "import numpy as np\n",
    "import pandas as pd\n",
    "import tsplib95"
   ]
  },
  {
   "cell_type": "code",
   "execution_count": 42,
   "metadata": {},
   "outputs": [
    {
     "name": "stdout",
     "output_type": "stream",
     "text": [
      "[1, 22, 8, 26, 31, 28, 3, 36, 35, 20, 2, 29, 21, 16, 50, 34, 30, 9, 49, 10, 39, 33, 45, 15, 44, 42, 40, 19, 41, 13, 25, 14, 24, 43, 7, 23, 48, 6, 27, 51, 46, 12, 47, 18, 4, 17, 37, 5, 38, 11, 32]\n",
      "[37 49 52 20 40 21 17 31 52 51 42 31  5 12 36 52 27 17 13 57 62 42 16  8\n",
      "  7 27 30 43 58 58 37 38 46 61 62 63 32 45 59  5 10 21  5 30 39 32 25 25\n",
      " 48 56 30]\n",
      "[52 49 64 26 30 47 63 62 33 21 41 32 25 42 16 41 23 33 13 58 42 57 57 52\n",
      " 38 68 48 67 48 27 69 46 10 33 63 69 22 35 15  6 17 10 64 15 10 39 32 55\n",
      " 28 37 40]\n"
     ]
    }
   ],
   "source": [
    "def load_path(file_path):\n",
    "    '''Load the optimal route.'''\n",
    "    dic = tsplib95.load(file_path)\n",
    "    return dic.tours[0]\n",
    "\n",
    "optimal_route = load_path(\"TSP-Configurations\\eil51.opt.tour.txt\")\n",
    "print(optimal_route)\n",
    "\n",
    "def load_file(file_path): \n",
    "    '''Load the coordinates of each dimension.'''\n",
    "    dic = tsplib95.load(file_path)\n",
    "\n",
    "    x_coordinates = [coords[0] for _, coords in list(dic.node_coords.items())]\n",
    "    y_coordinates = [coords[1] for _, coords in list(dic.node_coords.items())]\n",
    "    \n",
    "    return np.array(x_coordinates), np.array(y_coordinates)\n",
    "\n",
    "x_coordinates, y_coordinates = load_file(\"TSP-Configurations\\eil51.tsp.txt\")\n",
    "print(x_coordinates)\n",
    "print(y_coordinates)"
   ]
  },
  {
   "cell_type": "code",
   "execution_count": 61,
   "metadata": {},
   "outputs": [
    {
     "name": "stdout",
     "output_type": "stream",
     "text": [
      "[1, 22, 8, 26, 31, 28, 3, 36, 35, 20, 2, 29, 21, 16, 50, 34, 30, 9, 49, 10, 39, 33, 45, 15, 44, 42, 40, 19, 41, 13, 25, 14, 24, 43, 7, 23, 48, 6, 27, 51, 46, 12, 47, 18, 4, 17, 37, 5, 38, 11, 32]\n",
      "429.98331198338406\n",
      "32\n",
      "491.05443237990494\n"
     ]
    }
   ],
   "source": [
    "def get_distance(route, x_coordinates, y_coordinates): \n",
    "    '''Calculate the total distance with given route.'''\n",
    "    distance = 0\n",
    "    for idx, i in enumerate(route[1:]): \n",
    "        x_distance = np.abs(x_coordinates[i-1] - x_coordinates[route[idx]-1])\n",
    "        y_distance = np.abs(y_coordinates[i-1] - y_coordinates[route[idx]-1])\n",
    "        distance += np.sqrt(x_distance**2 + y_distance**2)\n",
    "    x_distance =  np.abs(x_coordinates[route[-1]-1] - x_coordinates[route[0]-1])\n",
    "    y_distance =  np.abs(y_coordinates[route[-1]-1] - y_coordinates[route[0]-1])\n",
    "    distance += np.sqrt(x_distance**2 + y_distance**2)\n",
    "    \n",
    "    return distance\n",
    "\n",
    "distance = get_distance(optimal_route, x_coordinates, y_coordinates)\n",
    "distance_iter = get_distance((route+np.ones(51)).astype(int), x_coordinates, y_coordinates)\n",
    "print(optimal_route)\n",
    "print(distance)\n",
    "print(optimal_route[-1])\n",
    "print(distance_iter)"
   ]
  },
  {
   "cell_type": "code",
   "execution_count": 26,
   "metadata": {},
   "outputs": [],
   "source": [
    "def get_distance_matrix(x_coordinates, y_coordinates): \n",
    "    dimension = len(x_coordinates)\n",
    "    distance_matrix = np.zeros((dimension, dimension))\n",
    "    for i in range(dimension): \n",
    "        distance_matrix[i] = (x_coordinates - x_coordinates[i])**2\n",
    "        distance_matrix[i] += (y_coordinates - y_coordinates[i])**2\n",
    "    \n",
    "    return np.sqrt(distance_matrix)\n"
   ]
  },
  {
   "cell_type": "code",
   "execution_count": 27,
   "metadata": {},
   "outputs": [],
   "source": [
    "distance_matrix = get_distance_matrix(x_coordinates, y_coordinates)"
   ]
  },
  {
   "cell_type": "code",
   "execution_count": 28,
   "metadata": {},
   "outputs": [
    {
     "data": {
      "text/plain": [
       "array([[ 0.        , 12.36931688, 19.20937271, ..., 26.40075756,\n",
       "        24.20743687, 13.89244399],\n",
       "       [12.36931688,  0.        , 15.29705854, ..., 21.02379604,\n",
       "        13.89244399, 21.02379604],\n",
       "       [19.20937271, 15.29705854,  0.        , ..., 36.22154055,\n",
       "        27.29468813, 32.55764119],\n",
       "       ...,\n",
       "       [26.40075756, 21.02379604, 36.22154055, ...,  0.        ,\n",
       "        12.04159458, 21.63330765],\n",
       "       [24.20743687, 13.89244399, 27.29468813, ..., 12.04159458,\n",
       "         0.        , 26.17250466],\n",
       "       [13.89244399, 21.02379604, 32.55764119, ..., 21.63330765,\n",
       "        26.17250466,  0.        ]])"
      ]
     },
     "execution_count": 28,
     "metadata": {},
     "output_type": "execute_result"
    }
   ],
   "source": [
    "distance_matrix"
   ]
  },
  {
   "cell_type": "code",
   "execution_count": null,
   "metadata": {},
   "outputs": [
    {
     "data": {
      "text/plain": [
       "421.1148337329819"
      ]
     },
     "execution_count": 51,
     "metadata": {},
     "output_type": "execute_result"
    }
   ],
   "source": [
    "optimal_route_ = (optimal_route - np.ones(51)).astype(int)\n",
    "reshape_route = np.array((optimal_route_[:-1], optimal_route_[1:])).T\n",
    "distance_matrix[reshape_route[:, 0], reshape_route[:, 1]].sum()"
   ]
  },
  {
   "cell_type": "code",
   "execution_count": 29,
   "metadata": {},
   "outputs": [
    {
     "name": "stdout",
     "output_type": "stream",
     "text": [
      "1746.4935162039571\n"
     ]
    }
   ],
   "source": [
    "rng = np.random.default_rng()\n",
    "random_path = rng.choice(np.arange(1, 52), size=51, replace=False)\n",
    "\n",
    "distance = get_distance(random_path, x_coordinates, y_coordinates)\n",
    "print(distance)"
   ]
  },
  {
   "cell_type": "code",
   "execution_count": 53,
   "metadata": {},
   "outputs": [
    {
     "data": {
      "text/plain": [
       "array([1597.87832444, 1586.5004499 , 1578.49493955, ...,  405.42149479,\n",
       "        405.42149479,  405.42149479])"
      ]
     },
     "execution_count": 53,
     "metadata": {},
     "output_type": "execute_result"
    }
   ],
   "source": [
    "class SA(): \n",
    "    def __init__(self, dimension, temperature, num_i):\n",
    "        if dimension == 51: \n",
    "            self.dimension = 51\n",
    "            self.x_coordinates, self.y_coordinates = load_file(\"TSP-Configurations\\eil51.tsp.txt\")\n",
    "        elif dimension == 280:\n",
    "            self.dimension = 280\n",
    "            self.x_coordinates, self.y_coordinates = load_file(\"TSP-Configurations\\a280.tsp.txt\")\n",
    "        elif dimension == 442: \n",
    "            self.dimension = 442\n",
    "            self.x_coordinates, self.y_coordinates = load_file(\"TSP-Configurations\\pcb442.tsp.txt\")\n",
    "        else: \n",
    "            raise ValueError('No such file')\n",
    "        \n",
    "        rng = np.random.default_rng()\n",
    "        self.route = rng.choice(range(self.dimension), size=self.dimension, replace=False)\n",
    "        self.distance_matrix = self.get_distance_matrix()\n",
    "        self.distance = self.get_distance(self.route)\n",
    "        self.T = temperature\n",
    "        self.num_i = num_i\n",
    "\n",
    "    def get_distance_matrix(self): \n",
    "        distance_matrix = np.zeros((self.dimension, self.dimension))\n",
    "        for i in range(self.dimension): \n",
    "            distance_matrix[i] = (x_coordinates - x_coordinates[i])**2\n",
    "            distance_matrix[i] += (y_coordinates - y_coordinates[i])**2\n",
    "        \n",
    "        return np.sqrt(distance_matrix)\n",
    "    \n",
    "    def get_distance(self, route):\n",
    "        reshape_route = np.array((route[:-1], route[1:])).T\n",
    "\n",
    "        return self.distance_matrix[reshape_route[:, 0], reshape_route[:, 1]].sum()\n",
    "    \n",
    "    def two_opt(self): \n",
    "        position_1, position_2 = np.sort(rng.choice(range(self.dimension), size=2, replace=False))\n",
    "        new_route = np.copy(self.route)\n",
    "        new_route[position_1:position_2+1] = self.route[np.arange(position_2, position_1-1, -1)]\n",
    "        new_distance = self.get_distance(new_route) \n",
    "\n",
    "        return new_route, new_distance\n",
    "\n",
    "    def acceptance_criteria(self, new_route, new_distance): \n",
    "        random = np.random.rand()\n",
    "        if random <= min(np.exp(-(new_distance-self.distance)/self.T),1): \n",
    "            self.route = new_route\n",
    "            self.distance = new_distance\n",
    "    \n",
    "    def cooling_schedule(self): \n",
    "        self.T -= 0.000001\n",
    "\n",
    "    def run_simulation(self): \n",
    "        distance_list = np.zeros(self.num_i)\n",
    "        for i in range(self.num_i): \n",
    "            new_route, new_distance = self.two_opt()\n",
    "            self.acceptance_criteria(new_route, new_distance)\n",
    "            self.cooling_schedule()\n",
    "            distance_list[i] = self.distance\n",
    "        \n",
    "        return distance_list, self.route\n",
    "    \n",
    "simu = SA(dimension=51, temperature=1, num_i=1000000)\n",
    "distance, route = simu.run_simulation()\n",
    "distance\n"
   ]
  },
  {
   "cell_type": "code",
   "execution_count": 62,
   "metadata": {},
   "outputs": [
    {
     "data": {
      "text/plain": [
       "array([[35, 34],\n",
       "       [34, 19],\n",
       "       [19,  2],\n",
       "       [ 2, 27],\n",
       "       [27, 30],\n",
       "       [30,  7],\n",
       "       [ 7, 25],\n",
       "       [25,  6],\n",
       "       [ 6, 42],\n",
       "       [42, 23],\n",
       "       [23, 22],\n",
       "       [22, 47],\n",
       "       [47, 26],\n",
       "       [26,  5],\n",
       "       [ 5, 13],\n",
       "       [13, 24],\n",
       "       [24, 17],\n",
       "       [17,  3],\n",
       "       [ 3, 16],\n",
       "       [16, 46],\n",
       "       [46, 11],\n",
       "       [11, 45],\n",
       "       [45, 50],\n",
       "       [50, 31],\n",
       "       [31,  0],\n",
       "       [ 0, 21],\n",
       "       [21,  1],\n",
       "       [ 1, 28],\n",
       "       [28, 20],\n",
       "       [20, 33],\n",
       "       [33, 29],\n",
       "       [29,  8],\n",
       "       [ 8, 49],\n",
       "       [49, 15],\n",
       "       [15, 10],\n",
       "       [10, 37],\n",
       "       [37,  4],\n",
       "       [ 4, 48],\n",
       "       [48,  9],\n",
       "       [ 9, 38],\n",
       "       [38, 32],\n",
       "       [32, 44],\n",
       "       [44, 14],\n",
       "       [14, 36],\n",
       "       [36, 43],\n",
       "       [43, 41],\n",
       "       [41, 18],\n",
       "       [18, 39],\n",
       "       [39, 40],\n",
       "       [40, 12]])"
      ]
     },
     "execution_count": 62,
     "metadata": {},
     "output_type": "execute_result"
    }
   ],
   "source": [
    "reshape_route"
   ]
  }
 ],
 "metadata": {
  "kernelspec": {
   "display_name": "base",
   "language": "python",
   "name": "python3"
  },
  "language_info": {
   "codemirror_mode": {
    "name": "ipython",
    "version": 3
   },
   "file_extension": ".py",
   "mimetype": "text/x-python",
   "name": "python",
   "nbconvert_exporter": "python",
   "pygments_lexer": "ipython3",
   "version": "3.11.5"
  }
 },
 "nbformat": 4,
 "nbformat_minor": 2
}
