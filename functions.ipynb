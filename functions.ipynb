{
 "cells": [
  {
   "cell_type": "code",
   "execution_count": 94,
   "metadata": {},
   "outputs": [],
   "source": [
    "import numpy as np\n",
    "import pandas as pd\n",
    "import pickle\n",
    "import tsplib95"
   ]
  },
  {
   "cell_type": "code",
   "execution_count": 80,
   "metadata": {},
   "outputs": [],
   "source": [
    "def seed():\n",
    "    np.random.seed(42)"
   ]
  },
  {
   "cell_type": "code",
   "execution_count": 42,
   "metadata": {},
   "outputs": [
    {
     "name": "stdout",
     "output_type": "stream",
     "text": [
      "[1, 22, 8, 26, 31, 28, 3, 36, 35, 20, 2, 29, 21, 16, 50, 34, 30, 9, 49, 10, 39, 33, 45, 15, 44, 42, 40, 19, 41, 13, 25, 14, 24, 43, 7, 23, 48, 6, 27, 51, 46, 12, 47, 18, 4, 17, 37, 5, 38, 11, 32]\n",
      "[37 49 52 20 40 21 17 31 52 51 42 31  5 12 36 52 27 17 13 57 62 42 16  8\n",
      "  7 27 30 43 58 58 37 38 46 61 62 63 32 45 59  5 10 21  5 30 39 32 25 25\n",
      " 48 56 30]\n",
      "[52 49 64 26 30 47 63 62 33 21 41 32 25 42 16 41 23 33 13 58 42 57 57 52\n",
      " 38 68 48 67 48 27 69 46 10 33 63 69 22 35 15  6 17 10 64 15 10 39 32 55\n",
      " 28 37 40]\n"
     ]
    }
   ],
   "source": [
    "def load_path(file_path):\n",
    "    '''Load the optimal route.'''\n",
    "    dic = tsplib95.load(file_path)\n",
    "    return dic.tours[0]\n",
    "\n",
    "optimal_route = load_path(\"TSP-Configurations\\eil51.opt.tour.txt\")\n",
    "print(optimal_route)\n",
    "\n",
    "def load_file(file_path): \n",
    "    '''Load the coordinates of each dimension.'''\n",
    "    dic = tsplib95.load(file_path)\n",
    "\n",
    "    x_coordinates = [coords[0] for _, coords in list(dic.node_coords.items())]\n",
    "    y_coordinates = [coords[1] for _, coords in list(dic.node_coords.items())]\n",
    "    \n",
    "    return np.array(x_coordinates), np.array(y_coordinates)\n",
    "\n",
    "x_coordinates, y_coordinates = load_file(\"TSP-Configurations\\eil51.tsp.txt\")\n",
    "print(x_coordinates)\n",
    "print(y_coordinates)"
   ]
  },
  {
   "cell_type": "code",
   "execution_count": 66,
   "metadata": {},
   "outputs": [
    {
     "name": "stdout",
     "output_type": "stream",
     "text": [
      "[1, 22, 8, 26, 31, 28, 3, 36, 35, 20, 2, 29, 21, 16, 50, 34, 30, 9, 49, 10, 39, 33, 45, 15, 44, 42, 40, 19, 41, 13, 25, 14, 24, 43, 7, 23, 48, 6, 27, 51, 46, 12, 47, 18, 4, 17, 37, 5, 38, 11, 32]\n",
      "429.98331198338406\n"
     ]
    }
   ],
   "source": [
    "def get_distance(route, x_coordinates, y_coordinates): \n",
    "    '''Calculate the total distance with given route.'''\n",
    "    distance = 0\n",
    "    for idx, i in enumerate(route[1:]): \n",
    "        x_distance = np.abs(x_coordinates[i-1] - x_coordinates[route[idx]-1])\n",
    "        y_distance = np.abs(y_coordinates[i-1] - y_coordinates[route[idx]-1])\n",
    "        distance += np.sqrt(x_distance**2 + y_distance**2)\n",
    "    x_distance =  np.abs(x_coordinates[route[-1]-1] - x_coordinates[route[0]-1])\n",
    "    y_distance =  np.abs(y_coordinates[route[-1]-1] - y_coordinates[route[0]-1])\n",
    "    distance += np.sqrt(x_distance**2 + y_distance**2)\n",
    "    \n",
    "    return distance\n",
    "\n",
    "distance = get_distance(optimal_route, x_coordinates, y_coordinates)\n",
    "print(optimal_route)\n",
    "print(distance)\n"
   ]
  },
  {
   "cell_type": "code",
   "execution_count": null,
   "metadata": {},
   "outputs": [],
   "source": [
    "def get_distance_matrix(x_coordinates, y_coordinates): \n",
    "    dimension = len(x_coordinates)\n",
    "    distance_matrix = np.zeros((dimension, dimension))\n",
    "    for i in range(dimension): \n",
    "        distance_matrix[i] = (x_coordinates - x_coordinates[i])**2\n",
    "        distance_matrix[i] += (y_coordinates - y_coordinates[i])**2\n",
    "    \n",
    "    return np.sqrt(distance_matrix)\n",
    "\n",
    "distance_matrix = get_distance_matrix(x_coordinates, y_coordinates)"
   ]
  },
  {
   "cell_type": "code",
   "execution_count": 67,
   "metadata": {},
   "outputs": [
    {
     "data": {
      "text/plain": [
       "429.983311983384"
      ]
     },
     "execution_count": 67,
     "metadata": {},
     "output_type": "execute_result"
    }
   ],
   "source": [
    "optimal_route_ = (optimal_route - np.ones(51)).astype(int)\n",
    "reshape_route = np.array((optimal_route_[:-1], optimal_route_[1:])).T\n",
    "reshape_route = np.vstack((reshape_route, np.array([[optimal_route_[-1], optimal_route_[0]]])))\n",
    "distance_matrix[reshape_route[:, 0], reshape_route[:, 1]].sum()"
   ]
  },
  {
   "cell_type": "code",
   "execution_count": 29,
   "metadata": {},
   "outputs": [
    {
     "name": "stdout",
     "output_type": "stream",
     "text": [
      "1746.4935162039571\n"
     ]
    }
   ],
   "source": [
    "rng = np.random.default_rng()\n",
    "random_path = rng.choice(np.arange(1, 52), size=51, replace=False)\n",
    "\n",
    "distance = get_distance(random_path, x_coordinates, y_coordinates)\n",
    "print(distance)"
   ]
  },
  {
   "cell_type": "code",
   "execution_count": 97,
   "metadata": {},
   "outputs": [],
   "source": [
    "class SA(): \n",
    "    def __init__(self, dimension, temperature, num_i):\n",
    "        if dimension == 51: \n",
    "            self.dimension = 51\n",
    "            self.x_coordinates, self.y_coordinates = load_file(\"TSP-Configurations\\eil51.tsp.txt\")\n",
    "        elif dimension == 280:\n",
    "            self.dimension = 280\n",
    "            self.x_coordinates, self.y_coordinates = load_file(\"TSP-Configurations\\a280.tsp.txt\")\n",
    "        elif dimension == 442: \n",
    "            self.dimension = 442\n",
    "            self.x_coordinates, self.y_coordinates = load_file(\"TSP-Configurations\\pcb442.tsp.txt\")\n",
    "        else: \n",
    "            raise ValueError('No such file')\n",
    "        \n",
    "        rng = np.random.default_rng()\n",
    "        self.route = rng.choice(range(self.dimension), size=self.dimension, replace=False)\n",
    "        self.distance_matrix = self.get_distance_matrix()\n",
    "        self.distance = self.get_distance(self.route)\n",
    "        self.T = temperature\n",
    "        self.coef_cooling_lin = temperature * (1 - 0.9 ** num_i) / num_i\n",
    "        self.coef_cooling_log = np.log(2)\n",
    "        self.num_i = num_i\n",
    "\n",
    "    def get_distance_matrix(self): \n",
    "        distance_matrix = np.zeros((self.dimension, self.dimension))\n",
    "        for i in range(self.dimension): \n",
    "            distance_matrix[i] = (x_coordinates - x_coordinates[i])**2\n",
    "            distance_matrix[i] += (y_coordinates - y_coordinates[i])**2\n",
    "        \n",
    "        return np.sqrt(distance_matrix)\n",
    "    \n",
    "    def get_distance(self, route):\n",
    "        reshape_route = np.array((route[:-1], route[1:])).T\n",
    "        reshape_route = np.vstack((reshape_route, np.array([[route[-1], route[0]]])))\n",
    "\n",
    "        return self.distance_matrix[reshape_route[:, 0], reshape_route[:, 1]].sum()\n",
    "    \n",
    "    def two_opt(self): \n",
    "        position_1, position_2 = np.sort(rng.choice(range(self.dimension), size=2, replace=False))\n",
    "        new_route = np.copy(self.route)\n",
    "        new_route[position_1:position_2+1] = self.route[np.arange(position_2, position_1-1, -1)]\n",
    "        new_distance = self.get_distance(new_route) \n",
    "\n",
    "        return new_route, new_distance\n",
    "\n",
    "    def acceptance_criteria_sa(self, new_route, new_distance): \n",
    "        '''acceptance criteria for simulated annealing algorithm'''\n",
    "        random = np.random.rand()\n",
    "        if random <= min(np.exp(-(new_distance-self.distance)/self.T),1): \n",
    "            self.route = new_route\n",
    "            self.distance = new_distance\n",
    "\n",
    "    def acceptance_criteria_hc(self, new_route, new_distance): \n",
    "        '''acceptance criteria for hill climbing algorithm'''\n",
    "        if new_distance < self.distance:\n",
    "            self.route = new_route\n",
    "            self.distance = new_distance\n",
    "\n",
    "    def cooling_schedule_lin(self): \n",
    "        # Balance the temperature after num_i iterations of linear and geometric cooling schedules\n",
    "        self.T -= self.coef_cooling_lin\n",
    "\n",
    "    def cooling_schedule_geo(self): \n",
    "        self.T *= 0.9\n",
    "\n",
    "    def cooling_schedule_log(self): \n",
    "        self.current_iteration += 1\n",
    "        self.T = self.coef_cooling_log / np.log(1+self.current_iteration)\n",
    "\n",
    "    def run_simulation_sa_lin(self): \n",
    "        distance_list = np.zeros(self.num_i)\n",
    "        for i in range(self.num_i): \n",
    "            new_route, new_distance = self.two_opt()\n",
    "            self.acceptance_criteria_sa(new_route, new_distance)\n",
    "            self.cooling_schedule_lin()\n",
    "            distance_list[i] = self.distance\n",
    "        \n",
    "        return distance_list, self.route\n",
    "    \n",
    "    def run_simulation_sa_geo(self): \n",
    "        distance_list = np.zeros(self.num_i)\n",
    "        for i in range(self.num_i): \n",
    "            new_route, new_distance = self.two_opt()\n",
    "            self.acceptance_criteria_sa(new_route, new_distance)\n",
    "            self.cooling_schedule_geo()\n",
    "            distance_list[i] = self.distance\n",
    "        \n",
    "        return distance_list, self.route\n",
    "    \n",
    "    def run_simulation_sa_log(self): \n",
    "        distance_list = np.zeros(self.num_i)\n",
    "        self.current_iteration = 0\n",
    "        for i in range(self.num_i): \n",
    "            new_route, new_distance = self.two_opt()\n",
    "            self.acceptance_criteria_sa(new_route, new_distance)\n",
    "            self.cooling_schedule_log()\n",
    "            distance_list[i] = self.distance\n",
    "        \n",
    "        return distance_list, self.route\n",
    "    \n",
    "    def run_simulation_hc(self): \n",
    "        distance_list = np.zeros(self.num_i)\n",
    "        for i in range(self.num_i): \n",
    "            new_route, new_distance = self.two_opt()\n",
    "            self.acceptance_criteria_hc(new_route, new_distance)\n",
    "            distance_list[i] = self.distance\n",
    "        \n",
    "        return distance_list, self.route\n",
    "    "
   ]
  },
  {
   "cell_type": "code",
   "execution_count": 98,
   "metadata": {},
   "outputs": [
    {
     "name": "stderr",
     "output_type": "stream",
     "text": [
      "C:\\Users\\lishu\\AppData\\Local\\Temp\\ipykernel_23452\\3763088304.py:49: RuntimeWarning: overflow encountered in exp\n",
      "  if random <= min(np.exp(-(new_distance-self.distance)/self.T),1):\n"
     ]
    }
   ],
   "source": [
    "def run_multiple_simulation(dimension=51, temperature=1, num_i=1000, num_run=50): \n",
    "    \n",
    "    seed()\n",
    "    results = np.zeros((num_run, num_i))\n",
    "    for i in range(num_run): \n",
    "        results[i,:], route = SA(dimension, temperature, num_i).run_simulation_sa_geo()\n",
    "\n",
    "    return results, route\n",
    "        \n",
    "results, route = run_multiple_simulation(dimension=51, temperature=1, num_i=1000, num_run=50)"
   ]
  },
  {
   "cell_type": "code",
   "execution_count": 99,
   "metadata": {},
   "outputs": [
    {
     "data": {
      "text/plain": [
       "array([[1714.81362336, 1714.81362336, 1679.19030007, ...,  607.25738694,\n",
       "         607.25738694,  607.25738694],\n",
       "       [1712.95669585, 1712.95669585, 1712.95669585, ...,  583.02359429,\n",
       "         583.02359429,  583.02359429],\n",
       "       [1729.32529618, 1709.24253137, 1702.29503776, ...,  588.8512497 ,\n",
       "         588.8512497 ,  588.8512497 ],\n",
       "       ...,\n",
       "       [1598.5899447 , 1592.41570979, 1592.41570979, ...,  581.16512316,\n",
       "         581.16512316,  581.16512316],\n",
       "       [1809.49247779, 1793.70210331, 1793.70210331, ...,  601.72313505,\n",
       "         601.72313505,  601.72313505],\n",
       "       [1816.67122347, 1816.67122347, 1816.67122347, ...,  594.04480756,\n",
       "         594.04480756,  594.04480756]])"
      ]
     },
     "execution_count": 99,
     "metadata": {},
     "output_type": "execute_result"
    }
   ],
   "source": [
    "results"
   ]
  }
 ],
 "metadata": {
  "kernelspec": {
   "display_name": "base",
   "language": "python",
   "name": "python3"
  },
  "language_info": {
   "codemirror_mode": {
    "name": "ipython",
    "version": 3
   },
   "file_extension": ".py",
   "mimetype": "text/x-python",
   "name": "python",
   "nbconvert_exporter": "python",
   "pygments_lexer": "ipython3",
   "version": "3.11.5"
  }
 },
 "nbformat": 4,
 "nbformat_minor": 2
}
