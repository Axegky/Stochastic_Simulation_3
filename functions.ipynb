{
 "cells": [
  {
   "cell_type": "code",
   "execution_count": 3,
   "metadata": {},
   "outputs": [],
   "source": [
    "import numpy as np\n",
    "import pandas as pd\n",
    "import pickle\n",
    "import tsplib95\n",
    "from concurrent.futures import ProcessPoolExecutor, as_completed"
   ]
  },
  {
   "cell_type": "code",
   "execution_count": 4,
   "metadata": {},
   "outputs": [],
   "source": [
    "def seed():\n",
    "    np.random.seed(42)"
   ]
  },
  {
   "cell_type": "code",
   "execution_count": 126,
   "metadata": {},
   "outputs": [],
   "source": [
    "def load_path(file_path):\n",
    "    '''Load the optimal route.'''\n",
    "    dic = tsplib95.load(file_path)\n",
    "    return dic.tours[0]\n",
    "\n",
    "optimal_route_51 = load_path(\"TSP-Configurations\\eil51.opt.tour.txt\")\n",
    "optimal_route_280 = load_path(\"TSP-Configurations/a280.opt.tour.txt\")\n",
    "optimal_route_442 = load_path(\"TSP-Configurations\\pcb442.opt.tour.txt\")\n",
    "# print(optimal_route)\n",
    "\n",
    "def load_file(file_path): \n",
    "    '''Load the coordinates of each dimension.'''\n",
    "    dic = tsplib95.load(file_path)\n",
    "\n",
    "    x_coordinates = [coords[0] for _, coords in list(dic.node_coords.items())]\n",
    "    y_coordinates = [coords[1] for _, coords in list(dic.node_coords.items())]\n",
    "    \n",
    "    return np.array(x_coordinates), np.array(y_coordinates)\n",
    "\n",
    "x_coordinates_51, y_coordinates_51 = load_file(\"TSP-Configurations\\eil51.tsp.txt\")\n",
    "x_coordinates_280, y_coordinates_280 = load_file(\"TSP-Configurations/a280.tsp.txt\")\n",
    "x_coordinates_442, y_coordinates_442 = load_file(\"TSP-Configurations\\pcb442.tsp.txt\")"
   ]
  },
  {
   "cell_type": "code",
   "execution_count": 127,
   "metadata": {},
   "outputs": [
    {
     "name": "stdout",
     "output_type": "stream",
     "text": [
      "429.98331198338406\n",
      "2586.7696475631606\n",
      "50783.54751373533\n"
     ]
    }
   ],
   "source": [
    "def get_distance(route, x_coordinates, y_coordinates): \n",
    "    '''Calculate the total distance with given route.'''\n",
    "    distance = 0\n",
    "    for idx, i in enumerate(route[1:]): \n",
    "        x_distance = np.abs(x_coordinates[i-1] - x_coordinates[route[idx]-1])\n",
    "        y_distance = np.abs(y_coordinates[i-1] - y_coordinates[route[idx]-1])\n",
    "        distance += np.sqrt(x_distance**2 + y_distance**2)\n",
    "    x_distance =  np.abs(x_coordinates[route[-1]-1] - x_coordinates[route[0]-1])\n",
    "    y_distance =  np.abs(y_coordinates[route[-1]-1] - y_coordinates[route[0]-1])\n",
    "    distance += np.sqrt(x_distance**2 + y_distance**2)\n",
    "    \n",
    "    return distance\n",
    "\n",
    "distance_51 = get_distance(optimal_route_51, x_coordinates_51, y_coordinates_51)\n",
    "distance_280 = get_distance(optimal_route_280, x_coordinates_280, y_coordinates_280)\n",
    "distance_442 = get_distance(optimal_route_442, x_coordinates_442, y_coordinates_442)\n",
    "\n",
    "\n",
    "print(distance_51)\n",
    "print(distance_280)\n",
    "print(distance_442)\n",
    "\n"
   ]
  },
  {
   "cell_type": "code",
   "execution_count": 128,
   "metadata": {},
   "outputs": [
    {
     "name": "stdout",
     "output_type": "stream",
     "text": [
      "[1, 2, 3, 4, 5, 6, 7, 8, 9, 10, 11, 12, 13, 14, 15, 16, 17, 18, 19, 20, 53, 52, 51, 83, 84, 85, 381, 382, 86, 54, 21, 22, 55, 87, 378, 88, 56, 23, 24, 25, 26, 27, 28, 29, 30, 31, 32, 376, 377, 33, 65, 64, 63, 62, 61, 60, 59, 58, 57, 89, 90, 91, 92, 93, 101, 111, 123, 133, 146, 158, 169, 182, 197, 196, 195, 194, 181, 168, 157, 145, 144, 391, 132, 122, 110, 121, 385, 109, 120, 388, 131, 143, 156, 167, 180, 193, 192, 204, 216, 225, 233, 408, 409, 412, 413, 404, 217, 205, 206, 207, 208, 218, 219, 209, 198, 183, 170, 159, 147, 134, 124, 112, 436, 94, 95, 379, 96, 380, 97, 98, 384, 383, 113, 125, 135, 148, 160, 171, 184, 199, 210, 220, 226, 411, 410, 414, 237, 265, 437, 275, 423, 438, 272, 420, 268, 416, 264, 236, 263, 262, 261, 422, 419, 260, 259, 258, 257, 256, 255, 254, 253, 418, 417, 252, 251, 250, 415, 249, 248, 247, 246, 245, 244, 243, 242, 241, 407, 228, 235, 240, 267, 271, 270, 274, 277, 426, 280, 440, 308, 309, 283, 284, 310, 339, 311, 285, 286, 312, 340, 313, 287, 288, 314, 315, 316, 290, 289, 424, 421, 425, 291, 317, 318, 292, 293, 319, 320, 294, 295, 321, 322, 296, 278, 297, 323, 430, 429, 324, 298, 299, 300, 325, 326, 301, 302, 327, 328, 303, 304, 329, 330, 305, 306, 331, 332, 333, 432, 334, 307, 335, 336, 427, 337, 338, 375, 374, 373, 372, 371, 370, 369, 368, 345, 367, 366, 365, 431, 364, 363, 362, 344, 361, 360, 359, 435, 358, 357, 356, 434, 355, 354, 353, 343, 352, 351, 350, 349, 433, 348, 347, 346, 342, 341, 428, 282, 281, 279, 276, 273, 269, 266, 239, 238, 234, 227, 405, 406, 401, 400, 185, 172, 161, 149, 136, 126, 114, 103, 102, 441, 104, 115, 386, 127, 387, 389, 116, 138, 392, 152, 151, 137, 150, 162, 173, 186, 174, 396, 399, 187, 175, 211, 403, 221, 229, 212, 230, 222, 213, 200, 188, 176, 163, 393, 153, 139, 140, 128, 117, 105, 106, 107, 118, 129, 141, 154, 165, 164, 397, 177, 189, 201, 202, 402, 214, 223, 231, 232, 224, 215, 203, 190, 191, 398, 178, 179, 395, 394, 166, 155, 142, 390, 130, 119, 108, 439, 82, 50, 49, 81, 100, 80, 48, 47, 79, 78, 46, 45, 77, 99, 76, 44, 43, 75, 74, 42, 41, 73, 72, 40, 39, 71, 70, 38, 37, 69, 68, 36, 35, 67, 66, 34, 442]\n",
      "50783.54751373533\n"
     ]
    }
   ],
   "source": [
    "distance = get_distance(optimal_route_442, x_coordinates_442, y_coordinates_442)\n",
    "print(optimal_route_442)\n",
    "print(distance)"
   ]
  },
  {
   "cell_type": "code",
   "execution_count": 7,
   "metadata": {},
   "outputs": [],
   "source": [
    "def get_distance_matrix(x_coordinates, y_coordinates): \n",
    "    dimension = len(x_coordinates)\n",
    "    distance_matrix = np.zeros((dimension, dimension))\n",
    "    for i in range(dimension): \n",
    "        distance_matrix[i] = (x_coordinates - x_coordinates[i])**2\n",
    "        distance_matrix[i] += (y_coordinates - y_coordinates[i])**2\n",
    "    \n",
    "    return np.sqrt(distance_matrix)\n",
    "\n",
    "distance_matrix = get_distance_matrix(x_coordinates, y_coordinates)"
   ]
  },
  {
   "cell_type": "code",
   "execution_count": 8,
   "metadata": {},
   "outputs": [
    {
     "data": {
      "text/plain": [
       "429.983311983384"
      ]
     },
     "execution_count": 8,
     "metadata": {},
     "output_type": "execute_result"
    }
   ],
   "source": [
    "optimal_route_ = (optimal_route - np.ones(51)).astype(int)\n",
    "reshape_route = np.array((optimal_route_[:-1], optimal_route_[1:])).T\n",
    "reshape_route = np.vstack((reshape_route, np.array([[optimal_route_[-1], optimal_route_[0]]])))\n",
    "distance_matrix[reshape_route[:, 0], reshape_route[:, 1]].sum()"
   ]
  },
  {
   "cell_type": "code",
   "execution_count": 9,
   "metadata": {},
   "outputs": [
    {
     "name": "stdout",
     "output_type": "stream",
     "text": [
      "1580.705088554159\n"
     ]
    }
   ],
   "source": [
    "rng = np.random.default_rng()\n",
    "random_path = rng.choice(np.arange(1, 52), size=51, replace=False)\n",
    "\n",
    "distance = get_distance(random_path, x_coordinates, y_coordinates)\n",
    "print(distance)"
   ]
  },
  {
   "cell_type": "code",
   "execution_count": 101,
   "metadata": {},
   "outputs": [],
   "source": [
    "class SA(): \n",
    "    def __init__(self, dimension, num_i, temperature=1, MC_length=1):\n",
    "        if dimension == 51: \n",
    "            self.dimension = 51\n",
    "            self.x_coordinates, self.y_coordinates = load_file(\"TSP-Configurations\\eil51.tsp.txt\")\n",
    "        elif dimension == 280:\n",
    "            self.dimension = 280\n",
    "            self.x_coordinates, self.y_coordinates = load_file(\"TSP-Configurations\\a280.tsp.txt\")\n",
    "        elif dimension == 442: \n",
    "            self.dimension = 442\n",
    "            self.x_coordinates, self.y_coordinates = load_file(\"TSP-Configurations\\pcb442.tsp.txt\")\n",
    "        else: \n",
    "            raise ValueError('No such file')\n",
    "        \n",
    "        rng = np.random.default_rng()\n",
    "        self.route = rng.choice(range(self.dimension), size=self.dimension, replace=False)\n",
    "        self.distance_matrix = self.get_distance_matrix()\n",
    "        self.distance = self.get_distance(self.route)\n",
    "        self.T = temperature\n",
    "        self.coef_cooling_lin = temperature * (1 - 0.9 ** num_i) / num_i\n",
    "        self.coef_cooling_log = np.log(2)\n",
    "        self.num_i = num_i\n",
    "        self.MC_length = MC_length\n",
    "\n",
    "    def get_distance_matrix(self): \n",
    "        distance_matrix = np.zeros((self.dimension, self.dimension))\n",
    "        for i in range(self.dimension): \n",
    "            distance_matrix[i] = (self.x_coordinates - self.x_coordinates[i])**2\n",
    "            distance_matrix[i] += (self.y_coordinates - self.y_coordinates[i])**2\n",
    "        \n",
    "        return np.sqrt(distance_matrix)\n",
    "    \n",
    "    def get_distance(self, route):\n",
    "        reshape_route = np.array((route[:-1], route[1:])).T\n",
    "        reshape_route = np.vstack((reshape_route, np.array([[route[-1], route[0]]])))\n",
    "\n",
    "        return self.distance_matrix[reshape_route[:, 0], reshape_route[:, 1]].sum()\n",
    "    \n",
    "    def two_opt(self): \n",
    "        position_1, position_2 = np.sort(rng.choice(range(self.dimension), size=2, replace=False))\n",
    "        new_route = np.copy(self.route)\n",
    "        new_route[position_1:position_2+1] = self.route[np.arange(position_2, position_1-1, -1)]\n",
    "        new_distance = self.get_distance(new_route) \n",
    "\n",
    "        return new_route, new_distance\n",
    "\n",
    "    def acceptance_criteria_sa(self, new_route, new_distance): \n",
    "        '''acceptance criteria for simulated annealing algorithm'''\n",
    "        random = np.random.rand()\n",
    "        if random <= min(np.exp(-(new_distance-self.distance)/self.T),1): \n",
    "            self.route = new_route\n",
    "            self.distance = new_distance\n",
    "\n",
    "    def acceptance_criteria_hc(self, new_route, new_distance): \n",
    "        '''acceptance criteria for hill climbing algorithm'''\n",
    "        if new_distance < self.distance:\n",
    "            self.route = new_route\n",
    "            self.distance = new_distance\n",
    "\n",
    "    def cooling_schedule_lin(self): \n",
    "        # Balance the temperature after num_i iterations of linear and geometric cooling schedules\n",
    "        self.T -= self.coef_cooling_lin\n",
    "\n",
    "    def cooling_schedule_geo(self): \n",
    "        self.T *= 0.9\n",
    "\n",
    "    def cooling_schedule_log(self): \n",
    "        self.current_iteration += 1\n",
    "        self.T = self.coef_cooling_log / np.log(1+self.current_iteration)\n",
    "\n",
    "    def run_simulation_sa_lin(self): \n",
    "        distance_list = np.zeros(self.num_i)\n",
    "        for i in range(self.num_i): \n",
    "            new_route, new_distance = self.two_opt()\n",
    "            self.acceptance_criteria_sa(new_route, new_distance)\n",
    "            self.cooling_schedule_lin()\n",
    "            distance_list[i] = self.distance\n",
    "        \n",
    "        return distance_list, self.route\n",
    "    \n",
    "    def run_simulation_sa_geo(self): \n",
    "        distance_list = np.zeros(self.num_i)\n",
    "        counter = 0\n",
    "        for i in range(self.num_i): \n",
    "            new_route, new_distance = self.two_opt()\n",
    "            self.acceptance_criteria_sa(new_route, new_distance)\n",
    "            if counter == self.MC_length: \n",
    "                self.cooling_schedule_geo()\n",
    "                counter = 0\n",
    "            distance_list[i] = self.distance\n",
    "            counter += 1\n",
    "        \n",
    "        return distance_list, self.route\n",
    "    \n",
    "    def run_simulation_sa_log(self): \n",
    "        distance_list = np.zeros(self.num_i)\n",
    "        counter = 0\n",
    "        self.current_iteration = 0\n",
    "        for i in range(self.num_i): \n",
    "            new_route, new_distance = self.two_opt()\n",
    "            self.acceptance_criteria_sa(new_route, new_distance)\n",
    "            if counter == self.MC_length: \n",
    "                self.cooling_schedule_log()\n",
    "                counter = 0\n",
    "            distance_list[i] = self.distance\n",
    "        \n",
    "        return distance_list, self.route\n",
    "    \n",
    "    def run_simulation_hc(self): \n",
    "        distance_list = np.zeros(self.num_i)\n",
    "        for i in range(self.num_i): \n",
    "            new_route, new_distance = self.two_opt()\n",
    "            self.acceptance_criteria_hc(new_route, new_distance)\n",
    "            distance_list[i] = self.distance\n",
    "        \n",
    "        return distance_list, self.route\n",
    "    "
   ]
  },
  {
   "cell_type": "code",
   "execution_count": 111,
   "metadata": {},
   "outputs": [],
   "source": [
    "def run_multiple_simulation(dimension=51, num_i=1000, temperature=1, num_run=50, MC_length=1, alg_type='SA', SA_type='geo', save_file=None, load_file=None): \n",
    "    seed()\n",
    "    results = np.zeros((num_run, num_i))\n",
    "    if alg_type == 'SA': \n",
    "\n",
    "        file_prefix = f'dimension_{dimension}_solved_by_SA_with_type_{SA_type}_initial_temperature_{temperature}_MClength_{MC_length}_num_i_{num_i}_num_run_{num_run}'\n",
    "        if load_file: \n",
    "            with open(f'data/{file_prefix}_results.pkl', 'rb') as f:\n",
    "                results = pickle.load(f)\n",
    "            with open(f'data/{file_prefix}_route.pkl', 'rb') as f:\n",
    "                route = pickle.load(f)\n",
    "            return results, route\n",
    "\n",
    "        if SA_type == 'lin': \n",
    "            for i in range(num_run): \n",
    "                    results[i,:], route = SA(dimension, num_i, temperature, MC_length).run_simulation_sa_lin()\n",
    "        elif SA_type == 'geo': \n",
    "            for i in range(num_run): \n",
    "                results[i,:], route = SA(dimension, num_i, temperature, MC_length).run_simulation_sa_geo()\n",
    "        elif SA_type == 'log': \n",
    "            for i in range(num_run): \n",
    "                    results[i,:], route = SA(dimension, num_i, temperature, MC_length).run_simulation_sa_log()\n",
    "    \n",
    "    elif alg_type == 'HC':\n",
    "        file_prefix = f'dimension_{dimension}_solved_by_HC_with_num_i_{num_i}_num_run_{num_run}'\n",
    "        if load_file: \n",
    "            with open(f'data/{file_prefix}_results.pkl', 'rb') as f:\n",
    "                results = pickle.load(f)\n",
    "            with open(f'data/{file_prefix}_route.pkl', 'rb') as f:\n",
    "                route = pickle.load(f)\n",
    "\n",
    "        for i in range(num_run): \n",
    "                results[i,:], route = SA(dimension, num_i).run_simulation_hc()\n",
    "    \n",
    "    if save_file: \n",
    "        with open(f'data/{file_prefix}_results.pkl', 'wb') as f: \n",
    "             pickle.dump(results, f)\n",
    "        with open(f'data/{file_prefix}_route.pkl', 'wb') as f: \n",
    "             pickle.dump(route, f)\n",
    "    \n",
    "    return results, route\n",
    "        \n",
    "# results, route = run_multiple_simulation(dimension=51, temperature=1, num_i=100000, num_run=50, save_file='True')"
   ]
  },
  {
   "cell_type": "code",
   "execution_count": 116,
   "metadata": {},
   "outputs": [],
   "source": [
    "def seed():\n",
    "    np.random.seed(42)\n",
    "\n",
    "def run_multiple_simulation(dimension=51, num_i=1000, num_run=50, MC_length=1, alg_type='SA', SA_type='geo', temperature=1, save_file=None, load_file=None): \n",
    "    \n",
    "    seed()\n",
    "    results = np.zeros((num_run, num_i))\n",
    "\n",
    "    if alg_type == 'SA': \n",
    "\n",
    "        file_prefix = f'dimension_{dimension}_solved_by_SA_with_type_{SA_type}_initial_temperature_{temperature}_MClength_{MC_length}_num_i_{num_i}_num_run_{num_run}'\n",
    "        if load_file: \n",
    "            with open(f'data/{file_prefix}_results.pkl', 'rb') as f:\n",
    "                results = pickle.load(f)\n",
    "            with open(f'data/{file_prefix}_route.pkl', 'rb') as f:\n",
    "                route = pickle.load(f)\n",
    "            return results, route\n",
    "\n",
    "        if SA_type == 'lin': \n",
    "            for i in range(num_run): \n",
    "                    results[i,:], route = SA(dimension, num_i, temperature, MC_length).run_simulation_sa_lin()\n",
    "        elif SA_type == 'geo': \n",
    "            for i in range(num_run): \n",
    "                results[i,:], route = SA(dimension, num_i, temperature, MC_length).run_simulation_sa_geo()\n",
    "        elif SA_type == 'log': \n",
    "            for i in range(num_run): \n",
    "                    results[i,:], route = SA(dimension, num_i, temperature, MC_length).run_simulation_sa_log()\n",
    "    \n",
    "    elif alg_type == 'HC':\n",
    "\n",
    "        file_prefix = f'dimension_{dimension}_solved_by_HC_with_num_i_{num_i}_num_run_{num_run}'\n",
    "        if load_file: \n",
    "            with open(f'data/{file_prefix}_results.pkl', 'rb') as f:\n",
    "                results = pickle.load(f)\n",
    "            with open(f'data/{file_prefix}_route.pkl', 'rb') as f:\n",
    "                route = pickle.load(f)\n",
    "            return results, route\n",
    "\n",
    "        with ProcessPoolExecutor() as executor:\n",
    "            futures = []\n",
    "            for i in range(num_run): \n",
    "                futures.append(executor.submit(SA(dimension, num_i, temperature).run_simulation_hc))\n",
    "            for i, future in enumerate(as_completed(futures)):\n",
    "                try:\n",
    "                    results[i], route = future.result()\n",
    "                except Exception as e:\n",
    "                    print(f\"Simulation {i} failed with error: {e}\")\n",
    "    if save_file: \n",
    "        with open(f'data/{file_prefix}_results.pkl', 'wb') as f: \n",
    "             pickle.dump(results, f)\n",
    "        with open(f'data/{file_prefix}_route.pkl', 'wb') as f: \n",
    "             pickle.dump(route, f)\n",
    "    \n",
    "    return results, route\n"
   ]
  },
  {
   "cell_type": "code",
   "execution_count": 64,
   "metadata": {},
   "outputs": [
    {
     "data": {
      "text/plain": [
       "array([457.64775113, 466.19045167, 466.43087728, 472.8874379 ,\n",
       "       450.52710244, 463.95196249, 448.98105613, 471.38354623,\n",
       "       457.57893267, 440.37426993, 458.01125323, 461.73323995,\n",
       "       453.98461202, 459.98020184, 456.80882056, 457.97862347,\n",
       "       468.37413352, 482.23016586, 452.70476688, 466.82086253,\n",
       "       450.41788744, 452.68170282, 453.70209401, 457.9055757 ,\n",
       "       452.69555633, 445.98518203, 468.75002464, 454.53799378,\n",
       "       457.69968874, 470.28149949, 442.81920154, 451.68329914,\n",
       "       460.68076753, 457.3743302 , 466.71317654, 459.56726329,\n",
       "       470.79738307, 465.49705893, 439.49210959, 463.35691607,\n",
       "       463.02287232, 464.10207534, 461.96539403, 455.28769075,\n",
       "       451.56714794, 459.98194698, 455.75170902, 451.3202248 ,\n",
       "       465.28987683, 448.12098933])"
      ]
     },
     "execution_count": 64,
     "metadata": {},
     "output_type": "execute_result"
    }
   ],
   "source": [
    "results[:,-1]"
   ]
  },
  {
   "cell_type": "code",
   "execution_count": 98,
   "metadata": {},
   "outputs": [
    {
     "name": "stdout",
     "output_type": "stream",
     "text": [
      "458.67257411909543\n"
     ]
    }
   ],
   "source": [
    "results_test, route = run_multiple_simulation(dimension=51, num_i=100000, temperature=1, num_run=50, load_file=True)\n",
    "print(np.mean(results_test[:,-1]))"
   ]
  },
  {
   "cell_type": "code",
   "execution_count": 112,
   "metadata": {},
   "outputs": [
    {
     "name": "stdout",
     "output_type": "stream",
     "text": [
      "458.74024846545404\n"
     ]
    }
   ],
   "source": [
    "results_hc, route = run_multiple_simulation(dimension=51, num_i=10000, alg_type='HC')\n",
    "print(np.mean(results_hc[:,-1]))"
   ]
  },
  {
   "cell_type": "code",
   "execution_count": 118,
   "metadata": {},
   "outputs": [
    {
     "name": "stdout",
     "output_type": "stream",
     "text": [
      "[486171.62354394 497759.06063719 490981.24768869 492561.03803001\n",
      " 481975.02372925 471048.47811169 495177.31947466 479055.91476429\n",
      " 473250.87280886 482291.51095415 484227.23863872 513160.30819827\n",
      " 492790.41099931 494593.06743034 487988.17072382 514939.44358317\n",
      " 504744.35679065 497824.53410428 481222.63022994 482355.99932155\n",
      " 502341.73174909 494235.46001692 467188.94037835 482975.38543235\n",
      " 490718.94556447 494614.8435712  485568.82901656 502783.91813711\n",
      " 494665.76150338 474498.18827653 496478.30580029 485998.62600056\n",
      " 500306.26831144 474355.64195636 495538.6826326  483004.36306949\n",
      " 504811.38773549 511352.62053848 481565.41457346 477919.04474539\n",
      " 500304.1669618  483440.28025537 507274.30302622 504077.22109061\n",
      " 501009.43213662 484662.41667935 484157.0089488  492752.57245658\n",
      " 490069.03824068 508126.07244626]\n"
     ]
    }
   ],
   "source": [
    "results_hc, route = run_multiple_simulation(dimension=442, num_i=1000, alg_type='HC')\n",
    "print(results_hc[:,-1])"
   ]
  },
  {
   "cell_type": "code",
   "execution_count": 103,
   "metadata": {},
   "outputs": [
    {
     "name": "stdout",
     "output_type": "stream",
     "text": [
      "460.71368218913165\n"
     ]
    }
   ],
   "source": [
    "results_hc, route = run_multiple_simulation(dimension=51, num_i=100000, alg_type='HC', save_file=True)\n",
    "print(np.mean(results_hc[:,-1]))"
   ]
  },
  {
   "cell_type": "code",
   "execution_count": 106,
   "metadata": {},
   "outputs": [
    {
     "name": "stdout",
     "output_type": "stream",
     "text": [
      "[25  7 30 27  2 35 34 19 28 20 49 33 29  9 38 32 44 14 43 36 16 11 46 17\n",
      "  3 41 18 39 40 12 24 13  5 26 50 45 31 10 37  4 48  8 15  1 21  0 47 22\n",
      " 23 42  6]\n"
     ]
    }
   ],
   "source": [
    "print(route)"
   ]
  },
  {
   "cell_type": "code",
   "execution_count": 66,
   "metadata": {},
   "outputs": [
    {
     "name": "stderr",
     "output_type": "stream",
     "text": [
      "C:\\Users\\lishu\\AppData\\Local\\Temp\\ipykernel_20656\\341573099.py:50: RuntimeWarning: overflow encountered in exp\n",
      "  if random <= min(np.exp(-(new_distance-self.distance)/self.T),1):\n",
      "C:\\Users\\lishu\\AppData\\Local\\Temp\\ipykernel_20656\\341573099.py:50: RuntimeWarning: overflow encountered in scalar divide\n",
      "  if random <= min(np.exp(-(new_distance-self.distance)/self.T),1):\n"
     ]
    }
   ],
   "source": [
    "results, route = run_multiple_simulation(dimension=51, temperature=1, num_i=200000, num_run=50, save_file='True')"
   ]
  },
  {
   "cell_type": "code",
   "execution_count": 107,
   "metadata": {},
   "outputs": [],
   "source": [
    "import numpy as np\n",
    "import pickle\n",
    "from random import seed\n",
    "from concurrent.futures import ProcessPoolExecutor, as_completed\n",
    "\n",
    "def run_single_simulation(dimension, num_i, temperature, MC_length, SA_type):\n",
    "    \"\"\"Run a single simulation based on the specified SA type.\"\"\"\n",
    "    if SA_type == 'lin':\n",
    "        return SA(dimension, num_i, temperature, MC_length).run_simulation_sa_lin()\n",
    "    elif SA_type == 'geo':\n",
    "        return SA(dimension, num_i, temperature, MC_length).run_simulation_sa_geo()\n",
    "    elif SA_type == 'log':\n",
    "        return SA(dimension, num_i, temperature, MC_length).run_simulation_sa_log()\n",
    "    else:\n",
    "        raise ValueError(\"Invalid SA_type provided.\")\n",
    "\n",
    "def run_multiple_simulation(dimension=51, temperature=1, num_i=1000, num_run=50, MC_length=1, alg_type='SA', SA_type='geo', save_file=None, load_file=None): \n",
    "    seed()\n",
    "    results = np.zeros((num_run, num_i))\n",
    "    routes = []\n",
    "\n",
    "    file_prefix = f'dimension_{dimension}_solved_by_{alg_type}_with_type_{SA_type}_initial_temperature_{temperature}_MClength_{MC_length}_num_i_{num_i}_num_run_{num_run}'\n",
    "    \n",
    "    if load_file: \n",
    "        with open(f'data/{file_prefix}_results.pkl', 'rb') as f:\n",
    "            results = pickle.load(f)\n",
    "        with open(f'data/{file_prefix}_route.pkl', 'rb') as f:\n",
    "            routes = pickle.load(f)\n",
    "        return results, routes\n",
    "\n",
    "    # Use ProcessPoolExecutor for parallel execution\n",
    "    with ProcessPoolExecutor() as executor:\n",
    "        futures = []\n",
    "        \n",
    "        for i in range(num_run):\n",
    "            futures.append(executor.submit(run_single_simulation, dimension, num_i, temperature, MC_length, SA_type))\n",
    "\n",
    "        for i, future in enumerate(as_completed(futures)):\n",
    "            try:\n",
    "                results[i], route = future.result()\n",
    "                routes.append(route)\n",
    "            except Exception as e:\n",
    "                # print(f\"Simulation {i} failed with error: {e}\")\n",
    "                routes.append(None)  # Append None or handle it as needed\n",
    "\n",
    "    if save_file: \n",
    "        with open(f'data/{file_prefix}_results.pkl', 'wb') as f: \n",
    "            pickle.dump(results, f)\n",
    "        with open(f'data/{file_prefix}_route.pkl', 'wb') as f: \n",
    "            pickle.dump(routes, f)\n",
    "    \n",
    "    return results, routes\n",
    "\n",
    "# Example usage\n",
    "results, routes = run_multiple_simulation(dimension=51, temperature=1, num_i=1000, num_run=50)\n"
   ]
  },
  {
   "cell_type": "code",
   "execution_count": 108,
   "metadata": {},
   "outputs": [
    {
     "data": {
      "text/plain": [
       "array([0., 0., 0., 0., 0., 0., 0., 0., 0., 0., 0., 0., 0., 0., 0., 0., 0.,\n",
       "       0., 0., 0., 0., 0., 0., 0., 0., 0., 0., 0., 0., 0., 0., 0., 0., 0.,\n",
       "       0., 0., 0., 0., 0., 0., 0., 0., 0., 0., 0., 0., 0., 0., 0., 0.])"
      ]
     },
     "execution_count": 108,
     "metadata": {},
     "output_type": "execute_result"
    }
   ],
   "source": [
    "results[:,-1]"
   ]
  },
  {
   "cell_type": "code",
   "execution_count": 48,
   "metadata": {},
   "outputs": [
    {
     "name": "stderr",
     "output_type": "stream",
     "text": [
      "C:\\Users\\lishu\\AppData\\Local\\Temp\\ipykernel_20656\\341573099.py:50: RuntimeWarning: overflow encountered in exp\n",
      "  if random <= min(np.exp(-(new_distance-self.distance)/self.T),1):\n"
     ]
    },
    {
     "data": {
      "text/plain": [
       "array([589.15518776, 627.8609859 , 564.70639199, 640.023059  ,\n",
       "       605.89905068, 618.21933932, 573.83262779, 558.03408979,\n",
       "       605.18901261, 573.14709466, 584.90897637, 643.80899949,\n",
       "       608.74743534, 633.91419691, 567.92928587, 621.3405967 ,\n",
       "       618.43307202, 582.55898874, 559.46160968, 601.91535477,\n",
       "       604.00904615, 613.08335125, 643.66252278, 571.13301806,\n",
       "       599.27909235, 597.79464743, 556.22541009, 549.26545033,\n",
       "       569.93504265, 597.46846947, 586.69986448, 620.64492741,\n",
       "       537.13907316, 574.13315307, 649.20900553, 540.01189231,\n",
       "       618.72985605, 576.1525695 , 641.45539181, 623.14326591,\n",
       "       581.83794012, 667.88512501, 623.1244634 , 640.89159965,\n",
       "       573.8263888 , 556.51332509, 589.41050425, 601.79708006,\n",
       "       636.95574487, 609.30881993])"
      ]
     },
     "execution_count": 48,
     "metadata": {},
     "output_type": "execute_result"
    }
   ],
   "source": [
    "results_1, route = run_multiple_simulation(dimension=51, temperature=1, num_i=1000, num_run=50)\n",
    "results_1[:,-1]"
   ]
  },
  {
   "cell_type": "code",
   "execution_count": null,
   "metadata": {},
   "outputs": [
    {
     "data": {
      "text/plain": [
       "array([[1693.70665785, 1693.70665785, 1687.4097226 , ...,  614.42111273,\n",
       "         614.42111273,  614.42111273],\n",
       "       [1638.43375338, 1638.43375338, 1613.73732301, ...,  639.52127356,\n",
       "         639.52127356,  639.52127356],\n",
       "       [1567.59545725, 1567.59545725, 1567.59545725, ...,  564.57002477,\n",
       "         564.57002477,  564.57002477],\n",
       "       ...,\n",
       "       [1622.68071182, 1593.29012011, 1560.11129625, ...,  637.09179133,\n",
       "         637.09179133,  637.09179133],\n",
       "       [1733.88655962, 1696.88596313, 1696.88596313, ...,  672.13366455,\n",
       "         672.13366455,  672.13366455],\n",
       "       [1768.33807131, 1737.07657474, 1737.07657474, ...,  579.68732554,\n",
       "         579.68732554,  579.68732554]])"
      ]
     },
     "execution_count": 51,
     "metadata": {},
     "output_type": "execute_result"
    }
   ],
   "source": [
    "results_30, route = run_multiple_simulation(dimension=51, temperature=1, num_i=1000, num_run=50, MC_length=30)\n",
    "results_30[:,-1]"
   ]
  }
 ],
 "metadata": {
  "kernelspec": {
   "display_name": "base",
   "language": "python",
   "name": "python3"
  },
  "language_info": {
   "codemirror_mode": {
    "name": "ipython",
    "version": 3
   },
   "file_extension": ".py",
   "mimetype": "text/x-python",
   "name": "python",
   "nbconvert_exporter": "python",
   "pygments_lexer": "ipython3",
   "version": "3.11.5"
  }
 },
 "nbformat": 4,
 "nbformat_minor": 2
}
